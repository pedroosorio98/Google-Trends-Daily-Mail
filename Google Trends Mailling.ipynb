{
 "cells": [
  {
   "cell_type": "markdown",
   "metadata": {},
   "source": [
    "# <center> Google Trends Mailing </center>"
   ]
  },
  {
   "cell_type": "markdown",
   "metadata": {},
   "source": [
    "**Summary:** This notebook provides a code for developing a bot that e-mails google trends tables with the main topics researched every day."
   ]
  },
  {
   "cell_type": "markdown",
   "metadata": {},
   "source": [
    "**Importing necessary modules:**"
   ]
  },
  {
   "cell_type": "code",
   "execution_count": 19,
   "metadata": {},
   "outputs": [],
   "source": [
    "import pandas as pd  \n",
    "import smtplib\n",
    "import time\n",
    "import datetime\n",
    "from pytrends.request import TrendReq\n",
    "from pretty_html_table import build_table\n",
    "from dateutil.relativedelta import relativedelta\n",
    "from email.mime.multipart import MIMEMultipart\n",
    "from email.mime.text import MIMEText\n",
    "from email.mime.image import MIMEImage"
   ]
  },
  {
   "cell_type": "code",
   "execution_count": 20,
   "metadata": {},
   "outputs": [],
   "source": [
    "pytrend = TrendReq()"
   ]
  },
  {
   "cell_type": "markdown",
   "metadata": {},
   "source": [
    "**Function to send e-mails with HTML Table:**"
   ]
  },
  {
   "cell_type": "code",
   "execution_count": 21,
   "metadata": {},
   "outputs": [],
   "source": [
    "def SendEmailGoogleTrends(html_table, password):\n",
    "    one_year_from_now = datetime.datetime.now()\n",
    "    date_formated = one_year_from_now.strftime(\"%d/%m/%Y, %H:%M\")\n",
    "    \n",
    "    To  = \"pedro.osoriomn@gmail.com\"\n",
    "    Subject = \"Google Trends Daily Report \" + date_formated\n",
    "\n",
    "    msg = MIMEMultipart('related')\n",
    "    msg['Subject'] = Subject\n",
    "    msg['From'] = \"market.automations@outlook.com\"\n",
    "    msg['To'] = To\n",
    "\n",
    "    part2 = MIMEText(html_table, 'html')\n",
    "    \n",
    "    msg.attach(part2)\n",
    "\n",
    "    server = smtplib.SMTP('smtp.outlook.com', 587)\n",
    "    server.ehlo()\n",
    "    server.starttls()\n",
    "    server.ehlo()\n",
    "    server.login(\"market.automations@outlook.com\", password)\n",
    "    server.sendmail(\"market.automations@outlook.com\", \"pedro.osoriomn@gmail.com\", msg.as_string())\n",
    "    server.quit()"
   ]
  },
  {
   "cell_type": "markdown",
   "metadata": {},
   "source": [
    "**Building the table:**"
   ]
  },
  {
   "cell_type": "code",
   "execution_count": 22,
   "metadata": {},
   "outputs": [],
   "source": [
    "locations = [\"united_states\",\"brazil\",\"france\",\"united_kingdom\"]\n",
    "df_list = []\n",
    "for location in locations:\n",
    "    df = pytrend.trending_searches(pn=location)\n",
    "    df = df.shift(1).dropna()\n",
    "    df_list.append(df)\n",
    "\n",
    "table = pd.concat(df_list,axis=1)\n",
    "main_col = \"Principais pesquisas de hoje:\"\n",
    "table.columns = [\"United States\",\"Brazil\",\"France\",\"United Kingdom\"]\n",
    "\n",
    "html_table = build_table(table,'blue_light')"
   ]
  },
  {
   "cell_type": "markdown",
   "metadata": {},
   "source": [
    "**Table format:**"
   ]
  },
  {
   "cell_type": "code",
   "execution_count": 23,
   "metadata": {},
   "outputs": [
    {
     "data": {
      "text/html": [
       "<div>\n",
       "<style scoped>\n",
       "    .dataframe tbody tr th:only-of-type {\n",
       "        vertical-align: middle;\n",
       "    }\n",
       "\n",
       "    .dataframe tbody tr th {\n",
       "        vertical-align: top;\n",
       "    }\n",
       "\n",
       "    .dataframe thead th {\n",
       "        text-align: right;\n",
       "    }\n",
       "</style>\n",
       "<table border=\"1\" class=\"dataframe\">\n",
       "  <thead>\n",
       "    <tr style=\"text-align: right;\">\n",
       "      <th></th>\n",
       "      <th>United States</th>\n",
       "      <th>Brazil</th>\n",
       "      <th>France</th>\n",
       "      <th>United Kingdom</th>\n",
       "    </tr>\n",
       "  </thead>\n",
       "  <tbody>\n",
       "    <tr>\n",
       "      <th>1</th>\n",
       "      <td>Brentford vs Man United</td>\n",
       "      <td>Cruzeiro x Chapecoense</td>\n",
       "      <td>Brentford – Manchester United</td>\n",
       "      <td>Arsenal vs Leicester City</td>\n",
       "    </tr>\n",
       "    <tr>\n",
       "      <th>2</th>\n",
       "      <td>Man City vs Bournemouth</td>\n",
       "      <td>EC Vitória x Brasil de Pelotas</td>\n",
       "      <td>Monaco – Rennes</td>\n",
       "      <td>Man City vs Bournemouth</td>\n",
       "    </tr>\n",
       "    <tr>\n",
       "      <th>3</th>\n",
       "      <td>Barcelona vs Rayo Vallecano</td>\n",
       "      <td>Milan x Udinese</td>\n",
       "      <td>Man City – Bournemouth</td>\n",
       "      <td>Aston Villa vs Everton</td>\n",
       "    </tr>\n",
       "    <tr>\n",
       "      <th>4</th>\n",
       "      <td>Chicago Bears</td>\n",
       "      <td>Aston Villa x Everton</td>\n",
       "      <td>Arsenal – Leicester</td>\n",
       "      <td>Southampton vs Leeds United</td>\n",
       "    </tr>\n",
       "    <tr>\n",
       "      <th>5</th>\n",
       "      <td>Arsenal vs Leicester City</td>\n",
       "      <td>Remo</td>\n",
       "      <td>Milan – Udinese</td>\n",
       "      <td>Cat</td>\n",
       "    </tr>\n",
       "    <tr>\n",
       "      <th>6</th>\n",
       "      <td>Carolina Panthers</td>\n",
       "      <td>Operário x Sampaio Corrêa</td>\n",
       "      <td>Liga</td>\n",
       "      <td>Barcelona vs Rayo Vallecano</td>\n",
       "    </tr>\n",
       "    <tr>\n",
       "      <th>7</th>\n",
       "      <td>Aston Villa vs Everton</td>\n",
       "      <td>Paysandu</td>\n",
       "      <td>Bordeaux – Niort</td>\n",
       "      <td>Wolves vs Fulham</td>\n",
       "    </tr>\n",
       "    <tr>\n",
       "      <th>8</th>\n",
       "      <td>PSG vs Montpellier</td>\n",
       "      <td>Benfica</td>\n",
       "      <td>Dijon – Caen</td>\n",
       "      <td>Rangers vs St Johnstone</td>\n",
       "    </tr>\n",
       "    <tr>\n",
       "      <th>9</th>\n",
       "      <td>Teddy Ray comedian</td>\n",
       "      <td>Tabela serie c</td>\n",
       "      <td>Guingamp – Paris FC</td>\n",
       "      <td>Dog</td>\n",
       "    </tr>\n",
       "    <tr>\n",
       "      <th>10</th>\n",
       "      <td>Southampton vs Leeds United</td>\n",
       "      <td>Aparecidense</td>\n",
       "      <td>Tariq Ramadan</td>\n",
       "      <td>The Secrets She Keeps</td>\n",
       "    </tr>\n",
       "    <tr>\n",
       "      <th>11</th>\n",
       "      <td>Inflation Reduction Act</td>\n",
       "      <td>Inter de Milão</td>\n",
       "      <td>Barca</td>\n",
       "      <td>Grease</td>\n",
       "    </tr>\n",
       "    <tr>\n",
       "      <th>12</th>\n",
       "      <td>Steelers</td>\n",
       "      <td>Classificação serie c</td>\n",
       "      <td>Aston Villa – Everton</td>\n",
       "      <td>PSG vs Montpellier</td>\n",
       "    </tr>\n",
       "    <tr>\n",
       "      <th>13</th>\n",
       "      <td>Tijuana news</td>\n",
       "      <td>La Liga</td>\n",
       "      <td>Carinne Teyssandier</td>\n",
       "      <td>Barcelona</td>\n",
       "    </tr>\n",
       "    <tr>\n",
       "      <th>14</th>\n",
       "      <td>Washington Commanders</td>\n",
       "      <td>Botafogo x Atlético-GO</td>\n",
       "      <td>Adele Milloz</td>\n",
       "      <td>Sunderland vs QPR</td>\n",
       "    </tr>\n",
       "    <tr>\n",
       "      <th>15</th>\n",
       "      <td>Buffalo Bills</td>\n",
       "      <td>Figueirense</td>\n",
       "      <td>Sochaux – Amiens</td>\n",
       "      <td>Cardiff City vs Birmingham</td>\n",
       "    </tr>\n",
       "    <tr>\n",
       "      <th>16</th>\n",
       "      <td>Mastodon</td>\n",
       "      <td>Pouso Alegre fc x Paraná</td>\n",
       "      <td>LOSC</td>\n",
       "      <td>Jerry Sadowitz</td>\n",
       "    </tr>\n",
       "    <tr>\n",
       "      <th>17</th>\n",
       "      <td>Real Madrid</td>\n",
       "      <td>Sociedade Esportiva Palmeiras</td>\n",
       "      <td>Karima Charni</td>\n",
       "      <td>Bob Marley</td>\n",
       "    </tr>\n",
       "    <tr>\n",
       "      <th>18</th>\n",
       "      <td>Cowboys</td>\n",
       "      <td>Guarani x Náutico</td>\n",
       "      <td>Triathlon</td>\n",
       "      <td>Helen Skelton</td>\n",
       "    </tr>\n",
       "    <tr>\n",
       "      <th>19</th>\n",
       "      <td>Seahawks</td>\n",
       "      <td>RB Leipzig</td>\n",
       "      <td>Feu d'artifice 15 aout</td>\n",
       "      <td>Ballon d'Or</td>\n",
       "    </tr>\n",
       "  </tbody>\n",
       "</table>\n",
       "</div>"
      ],
      "text/plain": [
       "                  United States                          Brazil  \\\n",
       "1       Brentford vs Man United          Cruzeiro x Chapecoense   \n",
       "2       Man City vs Bournemouth  EC Vitória x Brasil de Pelotas   \n",
       "3   Barcelona vs Rayo Vallecano                 Milan x Udinese   \n",
       "4                 Chicago Bears           Aston Villa x Everton   \n",
       "5     Arsenal vs Leicester City                            Remo   \n",
       "6             Carolina Panthers       Operário x Sampaio Corrêa   \n",
       "7        Aston Villa vs Everton                        Paysandu   \n",
       "8            PSG vs Montpellier                         Benfica   \n",
       "9            Teddy Ray comedian                  Tabela serie c   \n",
       "10  Southampton vs Leeds United                    Aparecidense   \n",
       "11      Inflation Reduction Act                  Inter de Milão   \n",
       "12                     Steelers           Classificação serie c   \n",
       "13                 Tijuana news                         La Liga   \n",
       "14        Washington Commanders          Botafogo x Atlético-GO   \n",
       "15                Buffalo Bills                     Figueirense   \n",
       "16                     Mastodon        Pouso Alegre fc x Paraná   \n",
       "17                  Real Madrid   Sociedade Esportiva Palmeiras   \n",
       "18                      Cowboys               Guarani x Náutico   \n",
       "19                     Seahawks                      RB Leipzig   \n",
       "\n",
       "                           France               United Kingdom  \n",
       "1   Brentford – Manchester United    Arsenal vs Leicester City  \n",
       "2                 Monaco – Rennes      Man City vs Bournemouth  \n",
       "3          Man City – Bournemouth       Aston Villa vs Everton  \n",
       "4             Arsenal – Leicester  Southampton vs Leeds United  \n",
       "5                 Milan – Udinese                          Cat  \n",
       "6                            Liga  Barcelona vs Rayo Vallecano  \n",
       "7                Bordeaux – Niort             Wolves vs Fulham  \n",
       "8                    Dijon – Caen      Rangers vs St Johnstone  \n",
       "9             Guingamp – Paris FC                          Dog  \n",
       "10                  Tariq Ramadan        The Secrets She Keeps  \n",
       "11                          Barca                       Grease  \n",
       "12          Aston Villa – Everton           PSG vs Montpellier  \n",
       "13            Carinne Teyssandier                    Barcelona  \n",
       "14                   Adele Milloz            Sunderland vs QPR  \n",
       "15               Sochaux – Amiens   Cardiff City vs Birmingham  \n",
       "16                           LOSC               Jerry Sadowitz  \n",
       "17                  Karima Charni                   Bob Marley  \n",
       "18                      Triathlon                Helen Skelton  \n",
       "19         Feu d'artifice 15 aout                  Ballon d'Or  "
      ]
     },
     "execution_count": 23,
     "metadata": {},
     "output_type": "execute_result"
    }
   ],
   "source": [
    "table"
   ]
  },
  {
   "cell_type": "markdown",
   "metadata": {},
   "source": [
    "**Sending the e-mail:**"
   ]
  },
  {
   "cell_type": "code",
   "execution_count": 24,
   "metadata": {},
   "outputs": [],
   "source": [
    "SendEmailGoogleTrends(html_table, password)"
   ]
  }
 ],
 "metadata": {
  "kernelspec": {
   "display_name": "Python 3",
   "language": "python",
   "name": "python3"
  },
  "language_info": {
   "codemirror_mode": {
    "name": "ipython",
    "version": 3
   },
   "file_extension": ".py",
   "mimetype": "text/x-python",
   "name": "python",
   "nbconvert_exporter": "python",
   "pygments_lexer": "ipython3",
   "version": "3.7.7"
  },
  "varInspector": {
   "cols": {
    "lenName": 16,
    "lenType": 16,
    "lenVar": 40
   },
   "kernels_config": {
    "python": {
     "delete_cmd_postfix": "",
     "delete_cmd_prefix": "del ",
     "library": "var_list.py",
     "varRefreshCmd": "print(var_dic_list())"
    },
    "r": {
     "delete_cmd_postfix": ") ",
     "delete_cmd_prefix": "rm(",
     "library": "var_list.r",
     "varRefreshCmd": "cat(var_dic_list()) "
    }
   },
   "types_to_exclude": [
    "module",
    "function",
    "builtin_function_or_method",
    "instance",
    "_Feature"
   ],
   "window_display": false
  }
 },
 "nbformat": 4,
 "nbformat_minor": 4
}
